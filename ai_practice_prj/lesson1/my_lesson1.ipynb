{
 "cells": [
  {
   "cell_type": "markdown",
   "id": "37e0bde0-46d5-4b5e-a868-0bcafebab275",
   "metadata": {},
   "source": [
    "# \"Thuc hanh tri tue nhan tao Buoi 1\"\n",
    "## \"Noi dung thuc hanh \""
   ]
  },
  {
   "cell_type": "markdown",
   "id": "f1cfb492-39a5-4990-95ac-a728284f2429",
   "metadata": {},
   "source": [
    "### In chu ra man hinh "
   ]
  },
  {
   "cell_type": "code",
   "execution_count": 4,
   "id": "17dcfff0-34a1-44b9-aa8d-2a4960baaa09",
   "metadata": {},
   "outputs": [
    {
     "name": "stdout",
     "output_type": "stream",
     "text": [
      "Hello,Python World!\n"
     ]
    }
   ],
   "source": [
    "#lenh1 - In chu ra man hinh \n",
    "print(\"Hello,Python World!\")"
   ]
  },
  {
   "cell_type": "markdown",
   "id": "9343ab31-9a65-48cf-b52c-9d250ff88ab9",
   "metadata": {},
   "source": [
    "# Chay tap tin python"
   ]
  },
  {
   "cell_type": "markdown",
   "id": "ca6176d6-8e0e-4300-8cbe-3274fdfb378c",
   "metadata": {},
   "source": [
    "### Tinh Toan Don Gian"
   ]
  },
  {
   "cell_type": "code",
   "execution_count": 25,
   "id": "cde92879-781c-43e2-92fa-7a417178b010",
   "metadata": {},
   "outputs": [
    {
     "name": "stdout",
     "output_type": "stream",
     "text": [
      "Calculator Basic\n"
     ]
    },
    {
     "name": "stdin",
     "output_type": "stream",
     "text": [
      "Moi ban nhap so a:  22\n",
      "Moi ban nhap so b:  33\n"
     ]
    },
    {
     "name": "stdout",
     "output_type": "stream",
     "text": [
      "c = 22 + 33 = 55\n"
     ]
    }
   ],
   "source": [
    "%run ex1_calc.py"
   ]
  },
  {
   "cell_type": "code",
   "execution_count": 27,
   "id": "67c21eed-6281-4423-8e30-1a55e79d02b2",
   "metadata": {},
   "outputs": [
    {
     "name": "stdout",
     "output_type": "stream",
     "text": [
      "Calculator Basic\n"
     ]
    },
    {
     "name": "stdin",
     "output_type": "stream",
     "text": [
      "Moi ban nhap so a:  22\n",
      "Moi ban nhap so b:  33\n"
     ]
    },
    {
     "name": "stdout",
     "output_type": "stream",
     "text": [
      "c = 22 + 33 = 55\n"
     ]
    }
   ],
   "source": [
    "print(\"Calculator Basic\")\n",
    "a = int(input(\"Moi ban nhap so a: \"))\n",
    "b = int(input(\"Moi ban nhap so b: \"))\n",
    "c = a + b\n",
    "print(\"c = %d + %d = %d\" %(a, b, c))"
   ]
  },
  {
   "cell_type": "markdown",
   "id": "939f5071-6039-4d37-990d-929110f51cdb",
   "metadata": {},
   "source": [
    "# Ket thuc "
   ]
  },
  {
   "cell_type": "code",
   "execution_count": null,
   "id": "be8fbfda-aac9-4cac-9f3d-096b0c6506a3",
   "metadata": {},
   "outputs": [],
   "source": []
  }
 ],
 "metadata": {
  "kernelspec": {
   "display_name": "Python 3 (ipykernel)",
   "language": "python",
   "name": "python3"
  },
  "language_info": {
   "codemirror_mode": {
    "name": "ipython",
    "version": 3
   },
   "file_extension": ".py",
   "mimetype": "text/x-python",
   "name": "python",
   "nbconvert_exporter": "python",
   "pygments_lexer": "ipython3",
   "version": "3.13.5"
  }
 },
 "nbformat": 4,
 "nbformat_minor": 5
}
